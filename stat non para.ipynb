{
 "cells": [
  {
   "cell_type": "code",
   "execution_count": 4,
   "metadata": {},
   "outputs": [],
   "source": [
    "import numpy as np \n",
    "from scipy.stats import binom, norm, wilcoxon\n",
    "import matplotlib.pyplot as plt"
   ]
  },
  {
   "cell_type": "markdown",
   "metadata": {},
   "source": [
    "#### Soient $\\displaystyle X_1, . . . , X_n$ un échantillon aléatoire. On veut tester si la distribution de X est symétrique par rapport à 0. Pour rejeter l’hypothèse de symétrie, une condition suffisante est que la médiane soit différente de zéro. On va donc considérer le test induit ”la médiane de X est-elle nulle ?”.\n"
   ]
  },
  {
   "cell_type": "markdown",
   "metadata": {},
   "source": [
    "   # 1. Test de localisation du Signe       \n",
    "   Objectif : Faire un test sur un paramètre de position, qui n’est ici pas la moyenne, mais la médiane.\n",
    "   Le test des signes permet de tester l’hypothèse suivante :\n",
    "###### H0 : me = 0\n",
    "contre\n",
    "###### H1 : me <> 0, ou me < 0, ou me > 0"
   ]
  },
  {
   "cell_type": "markdown",
   "metadata": {},
   "source": [
    "### Calcul de la statistique $S_n^+ = \\displaystyle\\sum_{i=1}^{i=n}1_{\\mathbb{R}_+^*}(X_i)$\n",
    "Sous $\\displaystyle\\mathcal{H_0}, \\theta=0, \\mathbb{S_n^+} \\sim \\mathcal{B}(n,\\frac{1}{2})$. L'espérence $E(S_n) = \\displaystyle\\frac{n}{2}$ et la variance $V(S_n) = \\displaystyle\\frac{n}{4}$\n",
    "\n",
    "La région critique du test est : \n",
    "\n",
    "$\\displaystyle\\mathbb{W} = \\{\\mathbb{S_n^+} \\ge c\\}$ pour $\\mathbb{H_1} : \\theta \\ge 0$\n",
    "\n",
    "$\\mathbb{W} = \\{\\mathbb{S_n^+} \\le c$\\} pour $\\mathbb{H_1} : \\theta \\le 0$\n",
    "\n",
    "$\\displaystyle\\mathbb{W} = \\{\\mathbb{S_n^+} \\ge C_1\\} \\cup \\{\\mathbb{S_n^+} \\le C_2\\}$ pour $\\mathbb{H_1} : \\theta \\ne 0$\n",
    "\n",
    "Pour $\\mathbb{n}$ assez grand on peut utiliser l'approximation $\\displaystyle\\frac{\\mathbb{S_n^+} - \\mathbb{E}(\\mathbb{S_n^+})}{\\sqrt{\\mathbb{V}(\\mathbb{S_n^+})}}$\n"
   ]
  },
  {
   "cell_type": "code",
   "execution_count": 5,
   "metadata": {},
   "outputs": [],
   "source": [
    "def stats(vec : list):\n",
    "    \"\"\"Renvoie à la statistique de Signe, son espérence et sa variance\"\"\"\n",
    "    n = len(vec)\n",
    "    return (np.array(vec) >= 0).sum(), n / 2, n / 4"
   ]
  },
  {
   "cell_type": "code",
   "execution_count": 6,
   "metadata": {},
   "outputs": [],
   "source": [
    "def test_localisation_Signe(ech, alter='<', alpha=0.05, med=0):\n",
    "    \"\"\"\n",
    "    Objectif : Faire un test sur un paramètre de position, qui n’est ici pas la moyenne, mais la médiane.\n",
    "    Le test des signes permet de tester l’hypothèse suivante :\n",
    "    ###### H0 : med = 0\n",
    "    contre\n",
    "    ###### H1 : med <> 0 ou med >0 ou med < 0\n",
    "    \n",
    "        - ech = échantillon aléatoire  X1, . . . , Xn\n",
    "        - alter = hypothèse alternative du test \n",
    "        - alpha = seuil critique\n",
    "        - med = médiane de l'échantillon\n",
    "        - alpha est initialisé à 0.05. Si différent de 0.05, indiquer la valeur.\n",
    "        - med est initialisé à zéro, dans ce cas on suppose que la série est déjà centrée. Sinon indiquer la valeur de la médiane.\n",
    "    \"\"\"\n",
    "    if med != 0:\n",
    "        ech = list(np.array(ech) - med)\n",
    "    Sn, E, Var = stats(ech)\n",
    "    n = len(ech)\n",
    "    if n < 30:\n",
    "        if alter=='<':\n",
    "            c = binom.ppf(alpha, n, 0.5)\n",
    "            p_value = binom.cdf(Sn, n, 0.5)\n",
    "        elif alter=='>':\n",
    "            c = binom.ppf(1 - alpha, n, 0.5)\n",
    "            p_value = 1 - binom.cdf(Sn, n, 0.5)\n",
    "        elif alter=='<>':\n",
    "            c = binom.interval(alpha, n, 0.5)\n",
    "            p_value = 2 * (1 - binom.cdf(Sn, n, 0.5))\n",
    "        else:\n",
    "            raise('Invalid alternative')\n",
    "    else:\n",
    "        from math import sqrt\n",
    "        S = (Sn - E) / sqrt(Var)\n",
    "        if alter=='<':\n",
    "            c = norm.ppf(alpha, 0, 1)\n",
    "            c = (c * sqrt(Var)) + E\n",
    "            p_value = norm.cdf(S, 0, 1)\n",
    "        elif alter=='>':\n",
    "            c = norm.ppf(1 - alpha, 0, 1)\n",
    "            c = (c * sqrt(Var)) + E\n",
    "            p_value = 1 - norm.cdf(S, 0, 1)\n",
    "        elif alter=='<>':\n",
    "            c1, c2 = norm.interval(alpha, 0, 1)\n",
    "            print(c1,c2)\n",
    "            c = ((c1 * sqrt(Var)) + E, (c2 * sqrt(Var)) + E)\n",
    "            p_value = 2 * (1 - norm.cdf(S, 0, 1))\n",
    "        else:\n",
    "            raise('Invalid alternative')\n",
    "    return Sn, c, p_value, alter, alpha, med"
   ]
  },
  {
   "cell_type": "code",
   "execution_count": 7,
   "metadata": {},
   "outputs": [
    {
     "name": "stdout",
     "output_type": "stream",
     "text": [
      "Help on function test_localisation_Signe in module __main__:\n",
      "\n",
      "test_localisation_Signe(ech, alter='<', alpha=0.05, med=0)\n",
      "    Objectif : Faire un test sur un paramètre de position, qui n’est ici pas la moyenne, mais la médiane.\n",
      "    Le test des signes permet de tester l’hypothèse suivante :\n",
      "    ###### H0 : med = 0\n",
      "    contre\n",
      "    ###### H1 : med <> 0 ou med >0 ou med < 0\n",
      "    \n",
      "        - ech = échantillon aléatoire  X1, . . . , Xn\n",
      "        - alter = hypothèse alternative du test \n",
      "        - alpha = seuil critique\n",
      "        - med = médiane de l'échantillon\n",
      "        - alpha est initialisé à 0.05. Si différent de 0.05, indiquer la valeur.\n",
      "        - med est initialisé à zéro, dans ce cas on suppose que la série est déjà centrée. Sinon indiquer la valeur de la médiane.\n",
      "\n"
     ]
    }
   ],
   "source": [
    "help(test_localisation_Signe)"
   ]
  },
  {
   "cell_type": "markdown",
   "metadata": {},
   "source": [
    "## Exemple"
   ]
  },
  {
   "cell_type": "code",
   "execution_count": 8,
   "metadata": {},
   "outputs": [
    {
     "data": {
      "text/plain": [
       "[<matplotlib.lines.Line2D at 0x26ca38783a0>]"
      ]
     },
     "execution_count": 8,
     "metadata": {},
     "output_type": "execute_result"
    },
    {
     "data": {
      "image/png": "[encoded data removed]",
      "text/plain": [
       "<Figure size 432x288 with 1 Axes>"
      ]
     },
     "metadata": {
      "needs_background": "light"
     },
     "output_type": "display_data"
    }
   ],
   "source": [
    "import random\n",
    "# Exemple\n",
    "X = [random.randrange(-10, 30) for i in range(100)]\n",
    "plt.plot(X, 'bo')"
   ]
  },
  {
   "cell_type": "code",
   "execution_count": 9,
   "metadata": {},
   "outputs": [
    {
     "name": "stdout",
     "output_type": "stream",
     "text": [
      "-0.06270677794321385 0.06270677794321385\n"
     ]
    },
    {
     "data": {
      "text/plain": [
       "(75,\n",
       " (49.68646611028393, 50.31353388971607),\n",
       " 5.733031438470704e-07,\n",
       " '<>',\n",
       " 0.05,\n",
       " 0)"
      ]
     },
     "execution_count": 9,
     "metadata": {},
     "output_type": "execute_result"
    }
   ],
   "source": [
    "results = test_localisation_Signe(X, alter='<>') #, centered=True, med=10)\n",
    "results"
   ]
  },
  {
   "cell_type": "code",
   "execution_count": 10,
   "metadata": {},
   "outputs": [
    {
     "data": {
      "text/plain": [
       "WilcoxonResult(statistic=772.0, pvalue=7.655968186119166e-09)"
      ]
     },
     "execution_count": 10,
     "metadata": {},
     "output_type": "execute_result"
    }
   ],
   "source": [
    "wilcoxon(X, alternative='two-sided') # (less == <, greater == >, two-sided == <>)"
   ]
  },
  {
   "cell_type": "code",
   "execution_count": 15,
   "metadata": {},
   "outputs": [],
   "source": [
    "def display(results):\n",
    "    print(\"=============== Test de localisation du Signe ===============\")\n",
    "    print('Ho : theta = 0')\n",
    "    print('vs')\n",
    "    print(\"H1 : theta {} 0\".format(results[3]))\n",
    "    if results[3] == '<>':\n",
    "        print(\"Region critique W = {0}Sn < {1}{3} U {0}Sn > {2}{3}\".format('{',results[1][0], results[1][1],'}'))\n",
    "    else:\n",
    "        print(\"Region critique W = {}Sn {} {}{}\".format('{',results[3],results[1],'}'))\n",
    "    print(\"=============================================================\")\n",
    "    print(\"S statistic : {}\".format(results[0]))\n",
    "    print(\"Valeur(s) critique(s) : {} (seuil = {})\".format(results[1], results[4]))\n",
    "    print(\"p_value : {}\".format(results[2]))\n",
    "    print(\"=================== Regle de décision ========================\")\n",
    "    if results[2] < results[4]:\n",
    "        print('p_value = {} < seuil = {} donc on rejette H0'.format(results[2], results[4]))\n",
    "    else :\n",
    "        print('p_value = {} > seuil = {} donc on ne rejette pas H0'.format(results[2], results[4]))\n",
    "        print('La médiane est égale à {}'.format(results[5]))"
   ]
  },
  {
   "cell_type": "code",
   "execution_count": 16,
   "metadata": {},
   "outputs": [
    {
     "name": "stdout",
     "output_type": "stream",
     "text": [
      "=============== Test de localisation du Signe ===============\n",
      "Ho : theta = 0\n",
      "vs\n",
      "H1 : theta <> 0\n",
      "Region critique W = {Sn < 49.68646611028393} U {Sn > 50.31353388971607}\n",
      "=============================================================\n",
      "S statistic : 75\n",
      "Valeur(s) critique(s) : (49.68646611028393, 50.31353388971607) (seuil = 0.05)\n",
      "p_value : 5.733031438470704e-07\n",
      "=================== Regle de décision ========================\n",
      "p_value = 5.733031438470704e-07 < seuil = 0.05 donc on rejette H0\n"
     ]
    }
   ],
   "source": [
    "display(results)"
   ]
  }
 ],
 "metadata": {
  "kernelspec": {
   "display_name": "Python 3",
   "language": "python",
   "name": "python3"
  },
  "language_info": {
   "codemirror_mode": {
    "name": "ipython",
    "version": 3
   },
   "file_extension": ".py",
   "mimetype": "text/x-python",
   "name": "python",
   "nbconvert_exporter": "python",
   "pygments_lexer": "ipython3",
   "version": "3.8.5"
  }
 },
 "nbformat": 4,
 "nbformat_minor": 4
}
