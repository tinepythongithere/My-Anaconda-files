{
 "cells": [
  {
   "cell_type": "markdown",
   "metadata": {},
   "source": [
    "# Estimation de la densité par l’histogramme"
   ]
  },
  {
   "cell_type": "markdown",
   "metadata": {},
   "source": [
    "##### L’approche classique pour estimer une densité est de supposer un modèle paramétrique : par exemple, en dimension 1, on représente les données par un histogramme, et si la courbe est en cloche avec des queues légères, on conclut qu’il y a de fortes chances que le modèle suive une loi gaussienne. Il n’y a alors plus qu’à estimer la moyenne et la variance (µ, σ2), c’est-à-dire un paramètre de dimension 2. On peut aussi se trouver dans un cas où on a des connaissances a priori sur les données, nous amenant à poser encore une loi paramétrique (ex typique : nombre de voitures passant par un carrefour par jour, représenté en général par une loi de poisson). Il y a plusieurs problèmes possibles avec cette approche : en dimension supérieure à 2 il sera difficile de représenter les données et d’intuiter une loi connue, parfois on n’a pas de connaissances a priori sur le sujet etc.\n",
    "##### De plus, si on se trompe de modèle, on arrivera à une interprétation erronée des données.\n",
    "##### Un modèle non paramétrique est moins rigide, et fait moins de suppositions a priori sur les données."
   ]
  },
  {
   "cell_type": "markdown",
   "metadata": {},
   "source": [
    "#### Comment estimer non-paramétriquement la densité de probabilité f, en se basant sur les observations X1, · · · , Xn? Il existe plusieurs m´ethodes d’estimation non-paramétrique d’une densité. La méthode la plus simple est celle de l’histogramme."
   ]
  },
  {
   "cell_type": "code",
   "execution_count": 1,
   "metadata": {},
   "outputs": [],
   "source": [
    "import numpy as np\n",
    "import matplotlib.pyplot as plt"
   ]
  },
  {
   "cell_type": "code",
   "execution_count": 2,
   "metadata": {},
   "outputs": [
    {
     "name": "stdout",
     "output_type": "stream",
     "text": [
      "[-55, -72, 69, -92, -100, 41, -57, -49, 51, -72, 51, -7, 75, -23, 59, -36, 34, 26, 95, 82, -46, 67, 72, -38, -14, -31, 42, 88, -38, 7, -18, 78, 13, -1, -44, 21, 27, 26, -88, 40]\n"
     ]
    }
   ],
   "source": [
    "# On suppose la distribution suivante\n",
    "import random\n",
    "X = [random.randrange(-100, 100) for i in range(40)]\n",
    "print(X)"
   ]
  },
  {
   "cell_type": "code",
   "execution_count": 3,
   "metadata": {},
   "outputs": [
    {
     "data": {
      "text/plain": [
       "(array([3., 2., 5., 5., 3., 3., 5., 5., 5., 4.]),\n",
       " array([-100. ,  -80.5,  -61. ,  -41.5,  -22. ,   -2.5,   17. ,   36.5,\n",
       "          56. ,   75.5,   95. ]),\n",
       " <BarContainer object of 10 artists>)"
      ]
     },
     "execution_count": 3,
     "metadata": {},
     "output_type": "execute_result"
    },
    {
     "data": {
      "image/png": "[encoded data removed]",
      "text/plain": [
       "<Figure size 432x288 with 1 Axes>"
      ]
     },
     "metadata": {
      "needs_background": "light"
     },
     "output_type": "display_data"
    }
   ],
   "source": [
    "plt.hist(X)"
   ]
  },
  {
   "cell_type": "markdown",
   "metadata": {},
   "source": [
    "## Etape 1 : Détermination de la longueur des intervalles \n",
    "## $\\displaystyle\\mathbb{h^*} = [\\frac{6}{n\\int_Rf'^2(x)dx}]^{1/3}$\n",
    "## La fonction $f$ est estimée par la fonction de densité de la loi normale centrée réduite\n",
    "## $f(x) \\sim \\frac{1}{\\sqrt{2\\pi}}e^{-x^2} \\Rightarrow f'(x) \\sim \\frac{-2x}{\\sqrt{2\\pi}}e^{-x^2}$"
   ]
  },
  {
   "cell_type": "code",
   "execution_count": 4,
   "metadata": {},
   "outputs": [],
   "source": [
    "from math import sqrt, exp, pi\n",
    "f_prim_sq = lambda x : ((-2 * x * exp(-x**2)) / sqrt(2 * pi)) * ((-2 * x * exp(-x**2)) / sqrt(2 * pi))\n",
    "f_prim_sq = np.vectorize(f_prim_sq)"
   ]
  },
  {
   "cell_type": "code",
   "execution_count": 5,
   "metadata": {},
   "outputs": [
    {
     "name": "stdout",
     "output_type": "stream",
     "text": [
      "Estimation de l'intégrale :  0.19947114020071638\n"
     ]
    },
    {
     "data": {
      "text/plain": [
       "[<matplotlib.lines.Line2D at 0x2563f26f370>]"
      ]
     },
     "execution_count": 5,
     "metadata": {},
     "output_type": "execute_result"
    },
    {
     "data": {
      "image/png": "[encoded data removed]",
      "text/plain": [
       "<Figure size 432x288 with 1 Axes>"
      ]
     },
     "metadata": {
      "needs_background": "light"
     },
     "output_type": "display_data"
    }
   ],
   "source": [
    "x = np.arange(-5,5,0.001)\n",
    "y = f_prim_sq(x)\n",
    "print(\"Estimation de l'intégrale : \",np.trapz(y,x))\n",
    "plt.plot(x,y)"
   ]
  },
  {
   "cell_type": "code",
   "execution_count": 6,
   "metadata": {},
   "outputs": [
    {
     "name": "stdout",
     "output_type": "stream",
     "text": [
      "La longeur de l'intervalle h=0.9093625461175313\n"
     ]
    }
   ],
   "source": [
    "n = len(X)\n",
    "val = np.trapz(y,x) # valeur de l'integrale\n",
    "h = (6 / (n * val)) ** (1/3)\n",
    "print(\"La longeur de l'intervalle h={}\".format(h))"
   ]
  },
  {
   "cell_type": "markdown",
   "metadata": {},
   "source": [
    "## Estimation de l'AMISE\n",
    "## $\\displaystyle AMISE_{h^*}(\\hat{f}_n) = (\\frac{3}{4})^\\frac{2}{3}(\\int_Rf'^2(x)dx)^\\frac{1}{3}n^\\frac{-2}{3}$"
   ]
  },
  {
   "cell_type": "code",
   "execution_count": 9,
   "metadata": {},
   "outputs": [
    {
     "name": "stdout",
     "output_type": "stream",
     "text": [
      "L'AMSIE est de 0.0019065324958189604\n"
     ]
    }
   ],
   "source": [
    "amise = ((3/4)**(2/3)) * (val ** (1/3)) * ((1/n)**(3/2))\n",
    "print(\"L'AMSIE est de {}\".format(amise))"
   ]
  },
  {
   "cell_type": "markdown",
   "metadata": {},
   "source": [
    "## Etape 2 : Délimitation de l'intervalle [a,b] en J intervalles de longeurs $\\mathbb{h^*}$\n",
    "## $\\displaystyle b = a + (J*h) \\Rightarrow J = \\frac{b - a}{h}$ "
   ]
  },
  {
   "cell_type": "code",
   "execution_count": 38,
   "metadata": {},
   "outputs": [
    {
     "name": "stdout",
     "output_type": "stream",
     "text": [
      "L'intervalle est [-99 , 96]\n",
      "Pour une longeur de 0.909, on obtient 214 intervalles\n"
     ]
    }
   ],
   "source": [
    "a, b = min(X), max(X)\n",
    "print(\"L'intervalle est [{} , {}]\".format(a,b))\n",
    "J = (b - a) / h\n",
    "print(\"Pour une longeur de h = {}, on obtient {} intervalles\".format(np.around(h,3), int(J)))\n",
    "A = np.arange(a,b,h)\n",
    "# Correction de la derniere valeur\n",
    "A[int(J)] = b"
   ]
  },
  {
   "cell_type": "markdown",
   "metadata": {},
   "source": [
    "## Etape 3 : Estimation de la densité $\\hat{f}$\n",
    "## La densité en tout point x de l’intervalle $[a_j, a_{j+1}]$ qui contient $k_i$ observations de $X = (x_1, x_2, ..., x_n)$ est estimée par $\\hat{f}(x) = \\frac{k_i}{nh^*}$"
   ]
  },
  {
   "cell_type": "code",
   "execution_count": 39,
   "metadata": {},
   "outputs": [
    {
     "name": "stdout",
     "output_type": "stream",
     "text": [
      "[0.05498357 0.         0.         0.02749179 0.         0.\n",
      " 0.         0.         0.02749179 0.         0.         0.\n",
      " 0.         0.         0.         0.         0.         0.\n",
      " 0.         0.         0.         0.         0.         0.\n",
      " 0.         0.         0.         0.         0.05498357 0.\n",
      " 0.         0.         0.         0.         0.02749179 0.\n",
      " 0.         0.         0.02749179 0.         0.         0.\n",
      " 0.         0.         0.         0.         0.         0.\n",
      " 0.02749179 0.         0.         0.02749179 0.         0.\n",
      " 0.05498357 0.         0.02749179 0.         0.         0.\n",
      " 0.         0.         0.02749179 0.02749179 0.         0.02749179\n",
      " 0.         0.         0.         0.         0.         0.\n",
      " 0.         0.         0.         0.         0.         0.\n",
      " 0.02749179 0.         0.         0.         0.         0.\n",
      " 0.         0.         0.02749179 0.         0.         0.\n",
      " 0.02749179 0.         0.         0.         0.         0.02749179\n",
      " 0.02749179 0.         0.         0.         0.         0.\n",
      " 0.         0.         0.02749179 0.         0.         0.\n",
      " 0.         0.         0.         0.         0.         0.02749179\n",
      " 0.         0.         0.         0.         0.         0.02749179\n",
      " 0.05498357 0.         0.         0.         0.         0.\n",
      " 0.         0.         0.         0.         0.         0.\n",
      " 0.         0.         0.         0.         0.         0.\n",
      " 0.         0.         0.         0.         0.02749179 0.\n",
      " 0.         0.         0.         0.         0.         0.02749179\n",
      " 0.         0.         0.02749179 0.         0.         0.\n",
      " 0.         0.         0.         0.         0.         0.02749179\n",
      " 0.02749179 0.         0.         0.         0.         0.\n",
      " 0.         0.02749179 0.         0.         0.         0.\n",
      " 0.         0.         0.         0.         0.         0.02749179\n",
      " 0.02749179 0.         0.         0.         0.         0.\n",
      " 0.02749179 0.         0.         0.02749179 0.         0.\n",
      " 0.         0.         0.         0.         0.         0.\n",
      " 0.         0.02749179 0.05498357 0.         0.         0.\n",
      " 0.         0.         0.         0.         0.         0.\n",
      " 0.         0.         0.         0.02749179]\n"
     ]
    }
   ],
   "source": [
    "K = np.array([((np.array(X) >= A[j]) * (np.array(X) <= A[j+1])).sum() for j in range(len(A)-1)])\n",
    "f_chap = K / (n * h)\n",
    "print(f_chap)"
   ]
  },
  {
   "cell_type": "markdown",
   "metadata": {},
   "source": [
    "## Courbe de la densité estimée"
   ]
  },
  {
   "cell_type": "code",
   "execution_count": 40,
   "metadata": {},
   "outputs": [
    {
     "data": {
      "text/plain": [
       "[<matplotlib.lines.Line2D at 0x1d58abafe50>]"
      ]
     },
     "execution_count": 40,
     "metadata": {},
     "output_type": "execute_result"
    },
    {
     "data": {
      "image/png": "[encoded data removed]",
      "text/plain": [
       "<Figure size 432x288 with 1 Axes>"
      ]
     },
     "metadata": {
      "needs_background": "light"
     },
     "output_type": "display_data"
    }
   ],
   "source": [
    "plt.plot(A[:(len(A)-1)],f_chap)"
   ]
  },
  {
   "cell_type": "code",
   "execution_count": 10,
   "metadata": {},
   "outputs": [
    {
     "data": {
      "text/plain": [
       "(array([0.00384615, 0.0025641 , 0.00641026, 0.00641026, 0.00384615,\n",
       "        0.00384615, 0.00641026, 0.00641026, 0.00641026, 0.00512821]),\n",
       " array([-100. ,  -80.5,  -61. ,  -41.5,  -22. ,   -2.5,   17. ,   36.5,\n",
       "          56. ,   75.5,   95. ]),\n",
       " <BarContainer object of 10 artists>)"
      ]
     },
     "execution_count": 10,
     "metadata": {},
     "output_type": "execute_result"
    },
    {
     "data": {
      "image/png": "[encoded data removed]",
      "text/plain": [
       "<Figure size 432x288 with 1 Axes>"
      ]
     },
     "metadata": {
      "needs_background": "light"
     },
     "output_type": "display_data"
    }
   ],
   "source": [
    "plt.hist(X, density=True)"
   ]
  },
  {
   "cell_type": "markdown",
   "metadata": {},
   "source": [
    "## REMARQUE\n",
    "\n",
    "#### • L’histogramme de densité est un estimateur très élémentaire, mais peut quand même déjà donner une première idée assez bonne de la forme de la densité f. Par contre, si on voulait utiliser cet estimateur dans d’autres analyses statistiques (comme par exemple l’analyse discriminante, l’estimation d’un taux de hasard, etc) il vaudrait mieux démarrer avec un estimateur plus précis.\n",
    "#### • L’histogramme de densité est une fonction étagée, et donc discontinue."
   ]
  },
  {
   "cell_type": "markdown",
   "metadata": {},
   "source": [
    "#### • Un inconvénient de l’estimateur par histogramme est que la fonction de densité résultante fˆn n’est pas régulière : il s’agit d’une fonction constante par morceau, qui a donc des sauts aux extrémités de chaque classe. En général, la densité à estimer est plus lisse, au moins continue.\n",
    "#### • L’estimation par noyau a pour but de résoudre ce problème."
   ]
  },
  {
   "cell_type": "code",
   "execution_count": null,
   "metadata": {},
   "outputs": [],
   "source": []
  }
 ],
 "metadata": {
  "kernelspec": {
   "display_name": "Python 3",
   "language": "python",
   "name": "python3"
  },
  "language_info": {
   "codemirror_mode": {
    "name": "ipython",
    "version": 3
   },
   "file_extension": ".py",
   "mimetype": "text/x-python",
   "name": "python",
   "nbconvert_exporter": "python",
   "pygments_lexer": "ipython3",
   "version": "3.8.5"
  }
 },
 "nbformat": 4,
 "nbformat_minor": 4
}
